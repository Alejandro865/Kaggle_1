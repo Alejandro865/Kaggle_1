{
 "cells": [
  {
   "cell_type": "code",
   "execution_count": 1,
   "id": "00107507",
   "metadata": {
    "_cell_guid": "b1076dfc-b9ad-4769-8c92-a6c4dae69d19",
    "_uuid": "8f2839f25d086af736a60e9eeb907d3b93b6e0e5",
    "execution": {
     "iopub.execute_input": "2022-08-24T06:00:36.618808Z",
     "iopub.status.busy": "2022-08-24T06:00:36.617748Z",
     "iopub.status.idle": "2022-08-24T06:00:37.011895Z",
     "shell.execute_reply": "2022-08-24T06:00:37.010947Z"
    },
    "papermill": {
     "duration": 0.40368,
     "end_time": "2022-08-24T06:00:37.014965",
     "exception": false,
     "start_time": "2022-08-24T06:00:36.611285",
     "status": "completed"
    },
    "tags": []
   },
   "outputs": [],
   "source": [
    "# This Python 3 environment comes with many helpful analytics libraries installed\n",
    "# It is defined by the kaggle/python Docker image: https://github.com/kaggle/docker-python\n",
    "# For example, here's several helpful packages to load\n",
    "\n",
    "import numpy as np # linear algebra\n",
    "import pandas as pd # data processing, CSV file I/O (e.g. pd.read_csv)\n",
    "\n",
    "# Input data files are available in the read-only \"../input/\" directory\n",
    "# For example, running this (by clicking run or pressing Shift+Enter) will list all files under the input directory\n",
    "\n",
    "import os\n",
    "for dirname, _, filenames in os.walk('/kaggle/input'):\n",
    "    for filename in filenames:\n",
    "       # print(os.path.join(dirname, filename))\n",
    "        pass\n",
    "\n",
    "# You can write up to 20GB to the current directory (/kaggle/working/) that gets preserved as output when you create a version using \"Save & Run All\" \n",
    "# You can also write temporary files to /kaggle/temp/, but they won't be saved outside of the current session"
   ]
  },
  {
   "cell_type": "code",
   "execution_count": 2,
   "id": "a09cb570",
   "metadata": {
    "execution": {
     "iopub.execute_input": "2022-08-24T06:00:37.022980Z",
     "iopub.status.busy": "2022-08-24T06:00:37.022615Z",
     "iopub.status.idle": "2022-08-24T06:00:43.821266Z",
     "shell.execute_reply": "2022-08-24T06:00:43.819951Z"
    },
    "papermill": {
     "duration": 6.805601,
     "end_time": "2022-08-24T06:00:43.823946",
     "exception": false,
     "start_time": "2022-08-24T06:00:37.018345",
     "status": "completed"
    },
    "tags": []
   },
   "outputs": [],
   "source": [
    "import os \n",
    "import numpy as np\n",
    "%matplotlib inline\n",
    "import matplotlib.pyplot as plt\n",
    "import matplotlib.image as mpimg\n",
    "import string\n",
    "import tensorflow as tf\n",
    "from tensorflow.keras.preprocessing.image import ImageDataGenerator\n"
   ]
  },
  {
   "cell_type": "code",
   "execution_count": 3,
   "id": "98013b3f",
   "metadata": {
    "execution": {
     "iopub.execute_input": "2022-08-24T06:00:43.832574Z",
     "iopub.status.busy": "2022-08-24T06:00:43.831319Z",
     "iopub.status.idle": "2022-08-24T06:00:43.836548Z",
     "shell.execute_reply": "2022-08-24T06:00:43.835518Z"
    },
    "papermill": {
     "duration": 0.011603,
     "end_time": "2022-08-24T06:00:43.838788",
     "exception": false,
     "start_time": "2022-08-24T06:00:43.827185",
     "status": "completed"
    },
    "tags": []
   },
   "outputs": [],
   "source": [
    "train_dir = \"/kaggle/input/nike-adidas-and-converse-imaged/train\"\n",
    "test_dir = \"/kaggle/input/nike-adidas-and-converse-imaged/test\""
   ]
  },
  {
   "cell_type": "code",
   "execution_count": 4,
   "id": "496087dd",
   "metadata": {
    "execution": {
     "iopub.execute_input": "2022-08-24T06:00:43.846710Z",
     "iopub.status.busy": "2022-08-24T06:00:43.846159Z",
     "iopub.status.idle": "2022-08-24T06:00:43.850733Z",
     "shell.execute_reply": "2022-08-24T06:00:43.849888Z"
    },
    "papermill": {
     "duration": 0.010874,
     "end_time": "2022-08-24T06:00:43.852736",
     "exception": false,
     "start_time": "2022-08-24T06:00:43.841862",
     "status": "completed"
    },
    "tags": []
   },
   "outputs": [],
   "source": [
    "# Normalización \n",
    "train_datagen = ImageDataGenerator(rescale = 1/255)\n",
    "test_datagen = ImageDataGenerator(rescale = 1/255, validation_split = 0.2)"
   ]
  },
  {
   "cell_type": "code",
   "execution_count": 5,
   "id": "2fbe8614",
   "metadata": {
    "execution": {
     "iopub.execute_input": "2022-08-24T06:00:43.860240Z",
     "iopub.status.busy": "2022-08-24T06:00:43.859761Z",
     "iopub.status.idle": "2022-08-24T06:00:44.180103Z",
     "shell.execute_reply": "2022-08-24T06:00:44.179232Z"
    },
    "papermill": {
     "duration": 0.327338,
     "end_time": "2022-08-24T06:00:44.183068",
     "exception": false,
     "start_time": "2022-08-24T06:00:43.855730",
     "status": "completed"
    },
    "tags": []
   },
   "outputs": [
    {
     "name": "stdout",
     "output_type": "stream",
     "text": [
      "Found 711 images belonging to 3 classes.\n",
      "Found 21 images belonging to 3 classes.\n",
      "Found 114 images belonging to 3 classes.\n"
     ]
    }
   ],
   "source": [
    "train_generator = train_datagen.flow_from_directory(\n",
    "    train_dir,\n",
    "    target_size = (28, 28),\n",
    "    batch_size = 128,\n",
    "    class_mode = \"categorical\",\n",
    "    color_mode = \"grayscale\",\n",
    "    subset = \"training\"\n",
    ")\n",
    "\n",
    "validation_generator = test_datagen.flow_from_directory(\n",
    "    test_dir,\n",
    "    target_size = (28, 28),\n",
    "    batch_size = 128,\n",
    "    class_mode = \"categorical\",\n",
    "    color_mode = \"grayscale\",\n",
    "    subset = \"validation\"\n",
    ")\n",
    "\n",
    "test_generator = test_datagen.flow_from_directory(\n",
    "    test_dir,\n",
    "    target_size = (28, 28),\n",
    "    batch_size = 128,\n",
    "    class_mode = \"categorical\",\n",
    "    color_mode = \"grayscale\"\n",
    ")"
   ]
  },
  {
   "cell_type": "code",
   "execution_count": 6,
   "id": "f8c218aa",
   "metadata": {
    "execution": {
     "iopub.execute_input": "2022-08-24T06:00:44.191025Z",
     "iopub.status.busy": "2022-08-24T06:00:44.190662Z",
     "iopub.status.idle": "2022-08-24T06:00:44.194982Z",
     "shell.execute_reply": "2022-08-24T06:00:44.193988Z"
    },
    "papermill": {
     "duration": 0.010502,
     "end_time": "2022-08-24T06:00:44.196922",
     "exception": false,
     "start_time": "2022-08-24T06:00:44.186420",
     "status": "completed"
    },
    "tags": []
   },
   "outputs": [],
   "source": [
    "# Creo una lista con las clases.\n",
    "classes = [\"converse\", \"nike\", \"adidas\"]"
   ]
  },
  {
   "cell_type": "code",
   "execution_count": 7,
   "id": "4b13f5a9",
   "metadata": {
    "execution": {
     "iopub.execute_input": "2022-08-24T06:00:44.204854Z",
     "iopub.status.busy": "2022-08-24T06:00:44.204225Z",
     "iopub.status.idle": "2022-08-24T06:00:44.211952Z",
     "shell.execute_reply": "2022-08-24T06:00:44.211021Z"
    },
    "papermill": {
     "duration": 0.013918,
     "end_time": "2022-08-24T06:00:44.213922",
     "exception": false,
     "start_time": "2022-08-24T06:00:44.200004",
     "status": "completed"
    },
    "tags": []
   },
   "outputs": [
    {
     "data": {
      "text/plain": [
       "['converse', 'nike', 'adidas']"
      ]
     },
     "execution_count": 7,
     "metadata": {},
     "output_type": "execute_result"
    }
   ],
   "source": [
    "classes"
   ]
  },
  {
   "cell_type": "code",
   "execution_count": 8,
   "id": "fca00dc0",
   "metadata": {
    "execution": {
     "iopub.execute_input": "2022-08-24T06:00:44.222469Z",
     "iopub.status.busy": "2022-08-24T06:00:44.221269Z",
     "iopub.status.idle": "2022-08-24T06:00:44.227272Z",
     "shell.execute_reply": "2022-08-24T06:00:44.226525Z"
    },
    "papermill": {
     "duration": 0.01216,
     "end_time": "2022-08-24T06:00:44.229203",
     "exception": false,
     "start_time": "2022-08-24T06:00:44.217043",
     "status": "completed"
    },
    "tags": []
   },
   "outputs": [],
   "source": [
    "def plotImages(images_arr):\n",
    "  fig, axes = plt.subplots(1, 5, figsize = (10, 10))\n",
    "  axes = axes.flatten()\n",
    "  for img, ax in zip(images_arr, axes):\n",
    "    ax.imshow(img[:,:,0])\n",
    "    ax.axis(\"off\")\n",
    "  plt.tight_layout()\n",
    "  plt.show()"
   ]
  },
  {
   "cell_type": "code",
   "execution_count": 9,
   "id": "47612ac9",
   "metadata": {
    "execution": {
     "iopub.execute_input": "2022-08-24T06:00:44.236996Z",
     "iopub.status.busy": "2022-08-24T06:00:44.236482Z",
     "iopub.status.idle": "2022-08-24T06:00:45.955028Z",
     "shell.execute_reply": "2022-08-24T06:00:45.953943Z"
    },
    "papermill": {
     "duration": 1.725277,
     "end_time": "2022-08-24T06:00:45.957527",
     "exception": false,
     "start_time": "2022-08-24T06:00:44.232250",
     "status": "completed"
    },
    "tags": []
   },
   "outputs": [
    {
     "data": {
      "image/png": "[encoded data removed]",
      "text/plain": [
       "<Figure size 720x720 with 5 Axes>"
      ]
     },
     "metadata": {
      "needs_background": "light"
     },
     "output_type": "display_data"
    }
   ],
   "source": [
    "# Salen verdes por la normalización -- \n",
    "sample_training_images, _= next(train_generator)\n",
    "plotImages(sample_training_images[:5])"
   ]
  }
 ],
 "metadata": {
  "kernelspec": {
   "display_name": "Python 3",
   "language": "python",
   "name": "python3"
  },
  "language_info": {
   "codemirror_mode": {
    "name": "ipython",
    "version": 3
   },
   "file_extension": ".py",
   "mimetype": "text/x-python",
   "name": "python",
   "nbconvert_exporter": "python",
   "pygments_lexer": "ipython3",
   "version": "3.7.12"
  },
  "papermill": {
   "default_parameters": {},
   "duration": 21.178636,
   "end_time": "2022-08-24T06:00:48.627330",
   "environment_variables": {},
   "exception": null,
   "input_path": "__notebook__.ipynb",
   "output_path": "__notebook__.ipynb",
   "parameters": {},
   "start_time": "2022-08-24T06:00:27.448694",
   "version": "2.3.4"
  }
 },
 "nbformat": 4,
 "nbformat_minor": 5
}
