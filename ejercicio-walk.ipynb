{
 "cells": [
  {
   "cell_type": "code",
   "execution_count": 1,
   "id": "e4b6dddd",
   "metadata": {
    "_cell_guid": "b1076dfc-b9ad-4769-8c92-a6c4dae69d19",
    "_uuid": "8f2839f25d086af736a60e9eeb907d3b93b6e0e5",
    "execution": {
     "iopub.execute_input": "2022-08-25T04:17:39.041410Z",
     "iopub.status.busy": "2022-08-25T04:17:39.040120Z",
     "iopub.status.idle": "2022-08-25T04:17:39.403587Z",
     "shell.execute_reply": "2022-08-25T04:17:39.402513Z"
    },
    "papermill": {
     "duration": 0.373458,
     "end_time": "2022-08-25T04:17:39.406302",
     "exception": false,
     "start_time": "2022-08-25T04:17:39.032844",
     "status": "completed"
    },
    "tags": []
   },
   "outputs": [],
   "source": [
    "# This Python 3 environment comes with many helpful analytics libraries installed\n",
    "# It is defined by the kaggle/python Docker image: https://github.com/kaggle/docker-python\n",
    "# For example, here's several helpful packages to load\n",
    "\n",
    "import numpy as np # linear algebra\n",
    "import pandas as pd # data processing, CSV file I/O (e.g. pd.read_csv)\n",
    "\n",
    "# Input data files are available in the read-only \"../input/\" directory\n",
    "# For example, running this (by clicking run or pressing Shift+Enter) will list all files under the input directory\n",
    "\n",
    "import os\n",
    "for dirname, _, filenames in os.walk('/kaggle/input'):\n",
    "    for filename in filenames:\n",
    "       # print(os.path.join(dirname, filename))\n",
    "        pass\n",
    "\n",
    "# You can write up to 20GB to the current directory (/kaggle/working/) that gets preserved as output when you create a version using \"Save & Run All\" \n",
    "# You can also write temporary files to /kaggle/temp/, but they won't be saved outside of the current session"
   ]
  },
  {
   "cell_type": "code",
   "execution_count": 2,
   "id": "f2475247",
   "metadata": {
    "execution": {
     "iopub.execute_input": "2022-08-25T04:17:39.418347Z",
     "iopub.status.busy": "2022-08-25T04:17:39.417977Z",
     "iopub.status.idle": "2022-08-25T04:17:45.714291Z",
     "shell.execute_reply": "2022-08-25T04:17:45.713107Z"
    },
    "papermill": {
     "duration": 6.305105,
     "end_time": "2022-08-25T04:17:45.717094",
     "exception": false,
     "start_time": "2022-08-25T04:17:39.411989",
     "status": "completed"
    },
    "tags": []
   },
   "outputs": [],
   "source": [
    "import os \n",
    "import numpy as np\n",
    "%matplotlib inline\n",
    "import matplotlib.pyplot as plt\n",
    "import matplotlib.image as mpimg\n",
    "import string\n",
    "import tensorflow as tf\n",
    "from tensorflow.keras.preprocessing.image import ImageDataGenerator\n"
   ]
  },
  {
   "cell_type": "code",
   "execution_count": 3,
   "id": "5af96067",
   "metadata": {
    "execution": {
     "iopub.execute_input": "2022-08-25T04:17:45.728313Z",
     "iopub.status.busy": "2022-08-25T04:17:45.727658Z",
     "iopub.status.idle": "2022-08-25T04:17:45.732721Z",
     "shell.execute_reply": "2022-08-25T04:17:45.731599Z"
    },
    "papermill": {
     "duration": 0.013224,
     "end_time": "2022-08-25T04:17:45.734964",
     "exception": false,
     "start_time": "2022-08-25T04:17:45.721740",
     "status": "completed"
    },
    "tags": []
   },
   "outputs": [],
   "source": [
    "train_dir = \"/kaggle/input/nike-adidas-and-converse-imaged/train\"\n",
    "test_dir = \"/kaggle/input/nike-adidas-and-converse-imaged/test\""
   ]
  },
  {
   "cell_type": "code",
   "execution_count": 4,
   "id": "d7d9e45d",
   "metadata": {
    "execution": {
     "iopub.execute_input": "2022-08-25T04:17:45.745544Z",
     "iopub.status.busy": "2022-08-25T04:17:45.745174Z",
     "iopub.status.idle": "2022-08-25T04:17:45.750710Z",
     "shell.execute_reply": "2022-08-25T04:17:45.749485Z"
    },
    "papermill": {
     "duration": 0.01337,
     "end_time": "2022-08-25T04:17:45.752966",
     "exception": false,
     "start_time": "2022-08-25T04:17:45.739596",
     "status": "completed"
    },
    "tags": []
   },
   "outputs": [],
   "source": [
    "# Normalización \n",
    "train_datagen = ImageDataGenerator(rescale = 1/255)\n",
    "test_datagen = ImageDataGenerator(rescale = 1/255, validation_split = 0.2)"
   ]
  },
  {
   "cell_type": "code",
   "execution_count": 5,
   "id": "a30e4681",
   "metadata": {
    "execution": {
     "iopub.execute_input": "2022-08-25T04:17:45.763513Z",
     "iopub.status.busy": "2022-08-25T04:17:45.763134Z",
     "iopub.status.idle": "2022-08-25T04:17:46.083046Z",
     "shell.execute_reply": "2022-08-25T04:17:46.081743Z"
    },
    "papermill": {
     "duration": 0.328273,
     "end_time": "2022-08-25T04:17:46.085813",
     "exception": false,
     "start_time": "2022-08-25T04:17:45.757540",
     "status": "completed"
    },
    "tags": []
   },
   "outputs": [
    {
     "name": "stdout",
     "output_type": "stream",
     "text": [
      "Found 711 images belonging to 3 classes.\n",
      "Found 21 images belonging to 3 classes.\n",
      "Found 114 images belonging to 3 classes.\n"
     ]
    }
   ],
   "source": [
    "train_generator = train_datagen.flow_from_directory(\n",
    "    train_dir,\n",
    "    target_size = (28, 28),\n",
    "    batch_size = 128,\n",
    "    class_mode = \"categorical\",\n",
    "    color_mode = \"grayscale\",\n",
    "    subset = \"training\"\n",
    ")\n",
    "\n",
    "validation_generator = test_datagen.flow_from_directory(\n",
    "    test_dir,\n",
    "    target_size = (28, 28),\n",
    "    batch_size = 128,\n",
    "    class_mode = \"categorical\",\n",
    "    color_mode = \"grayscale\",\n",
    "    subset = \"validation\"\n",
    ")\n",
    "\n",
    "test_generator = test_datagen.flow_from_directory(\n",
    "    test_dir,\n",
    "    target_size = (28, 28),\n",
    "    batch_size = 128,\n",
    "    class_mode = \"categorical\",\n",
    "    color_mode = \"grayscale\"\n",
    ")"
   ]
  },
  {
   "cell_type": "code",
   "execution_count": 6,
   "id": "d1348331",
   "metadata": {
    "execution": {
     "iopub.execute_input": "2022-08-25T04:17:46.097228Z",
     "iopub.status.busy": "2022-08-25T04:17:46.096507Z",
     "iopub.status.idle": "2022-08-25T04:17:46.101054Z",
     "shell.execute_reply": "2022-08-25T04:17:46.100338Z"
    },
    "papermill": {
     "duration": 0.012577,
     "end_time": "2022-08-25T04:17:46.103179",
     "exception": false,
     "start_time": "2022-08-25T04:17:46.090602",
     "status": "completed"
    },
    "tags": []
   },
   "outputs": [],
   "source": [
    "# Creo una lista con las clases.\n",
    "classes = [\"converse\", \"nike\", \"adidas\"]"
   ]
  },
  {
   "cell_type": "code",
   "execution_count": 7,
   "id": "16e2c6f5",
   "metadata": {
    "execution": {
     "iopub.execute_input": "2022-08-25T04:17:46.114360Z",
     "iopub.status.busy": "2022-08-25T04:17:46.113638Z",
     "iopub.status.idle": "2022-08-25T04:17:46.122631Z",
     "shell.execute_reply": "2022-08-25T04:17:46.121541Z"
    },
    "papermill": {
     "duration": 0.017066,
     "end_time": "2022-08-25T04:17:46.124812",
     "exception": false,
     "start_time": "2022-08-25T04:17:46.107746",
     "status": "completed"
    },
    "tags": []
   },
   "outputs": [
    {
     "data": {
      "text/plain": [
       "['converse', 'nike', 'adidas']"
      ]
     },
     "execution_count": 7,
     "metadata": {},
     "output_type": "execute_result"
    }
   ],
   "source": [
    "classes"
   ]
  },
  {
   "cell_type": "code",
   "execution_count": 8,
   "id": "37308380",
   "metadata": {
    "execution": {
     "iopub.execute_input": "2022-08-25T04:17:46.136217Z",
     "iopub.status.busy": "2022-08-25T04:17:46.135495Z",
     "iopub.status.idle": "2022-08-25T04:17:46.141580Z",
     "shell.execute_reply": "2022-08-25T04:17:46.140867Z"
    },
    "papermill": {
     "duration": 0.014174,
     "end_time": "2022-08-25T04:17:46.143747",
     "exception": false,
     "start_time": "2022-08-25T04:17:46.129573",
     "status": "completed"
    },
    "tags": []
   },
   "outputs": [],
   "source": [
    "def plotImages(images_arr):\n",
    "  fig, axes = plt.subplots(1, 5, figsize = (10, 10))\n",
    "  axes = axes.flatten()\n",
    "  for img, ax in zip(images_arr, axes):\n",
    "    ax.imshow(img[:,:,0])\n",
    "    ax.axis(\"off\")\n",
    "  plt.tight_layout()\n",
    "  plt.show()"
   ]
  },
  {
   "cell_type": "code",
   "execution_count": 9,
   "id": "3a2c9f7a",
   "metadata": {
    "execution": {
     "iopub.execute_input": "2022-08-25T04:17:46.155204Z",
     "iopub.status.busy": "2022-08-25T04:17:46.154497Z",
     "iopub.status.idle": "2022-08-25T04:17:47.605365Z",
     "shell.execute_reply": "2022-08-25T04:17:47.604207Z"
    },
    "papermill": {
     "duration": 1.459286,
     "end_time": "2022-08-25T04:17:47.607701",
     "exception": false,
     "start_time": "2022-08-25T04:17:46.148415",
     "status": "completed"
    },
    "tags": []
   },
   "outputs": [
    {
     "data": {
      "image/png": "[encoded data removed]",
      "text/plain": [
       "<Figure size 720x720 with 5 Axes>"
      ]
     },
     "metadata": {
      "needs_background": "light"
     },
     "output_type": "display_data"
    }
   ],
   "source": [
    "# Salen verdes por la normalización -- \n",
    "sample_training_images, _= next(train_generator)\n",
    "plotImages(sample_training_images[:5])"
   ]
  },
  {
   "cell_type": "markdown",
   "id": "a8effcc6",
   "metadata": {
    "papermill": {
     "duration": 0.004588,
     "end_time": "2022-08-25T04:17:47.617324",
     "exception": false,
     "start_time": "2022-08-25T04:17:47.612736",
     "status": "completed"
    },
    "tags": []
   },
   "source": [
    "## MODELO BASE (Primer Modelo)"
   ]
  },
  {
   "cell_type": "code",
   "execution_count": 10,
   "id": "ac52ba5c",
   "metadata": {
    "execution": {
     "iopub.execute_input": "2022-08-25T04:17:47.629250Z",
     "iopub.status.busy": "2022-08-25T04:17:47.628291Z",
     "iopub.status.idle": "2022-08-25T04:17:47.750697Z",
     "shell.execute_reply": "2022-08-25T04:17:47.749462Z"
    },
    "papermill": {
     "duration": 0.131081,
     "end_time": "2022-08-25T04:17:47.753250",
     "exception": false,
     "start_time": "2022-08-25T04:17:47.622169",
     "status": "completed"
    },
    "tags": []
   },
   "outputs": [
    {
     "name": "stderr",
     "output_type": "stream",
     "text": [
      "2022-08-25 04:17:47.673177: I tensorflow/core/common_runtime/process_util.cc:146] Creating new thread pool with default inter op setting: 2. Tune using inter_op_parallelism_threads for best performance.\n"
     ]
    }
   ],
   "source": [
    "model_base = tf.keras.models.Sequential([\n",
    "                                        tf.keras.layers.Flatten(input_shape = (28,28,1)),# Entrada imagenes de 28x28x1 Flatten: Convierte la matriz en un array\n",
    "                                        tf.keras.layers.Dense(256, activation = \"relu\"), #  \n",
    "                                        tf.keras.layers.Dense(128, activation = \"relu\"), # \n",
    "                                        tf.keras.layers.Dense(len(classes), activation = \"softmax\") # softmax define la probabilidad de que la prediccion corresponda a una clase \n",
    "])"
   ]
  },
  {
   "cell_type": "code",
   "execution_count": 11,
   "id": "2da05535",
   "metadata": {
    "execution": {
     "iopub.execute_input": "2022-08-25T04:17:47.765749Z",
     "iopub.status.busy": "2022-08-25T04:17:47.764717Z",
     "iopub.status.idle": "2022-08-25T04:17:47.771408Z",
     "shell.execute_reply": "2022-08-25T04:17:47.770043Z"
    },
    "papermill": {
     "duration": 0.01551,
     "end_time": "2022-08-25T04:17:47.773910",
     "exception": false,
     "start_time": "2022-08-25T04:17:47.758400",
     "status": "completed"
    },
    "tags": []
   },
   "outputs": [
    {
     "name": "stdout",
     "output_type": "stream",
     "text": [
      "Model: \"sequential\"\n",
      "_________________________________________________________________\n",
      "Layer (type)                 Output Shape              Param #   \n",
      "=================================================================\n",
      "flatten (Flatten)            (None, 784)               0         \n",
      "_________________________________________________________________\n",
      "dense (Dense)                (None, 256)               200960    \n",
      "_________________________________________________________________\n",
      "dense_1 (Dense)              (None, 128)               32896     \n",
      "_________________________________________________________________\n",
      "dense_2 (Dense)              (None, 3)                 387       \n",
      "=================================================================\n",
      "Total params: 234,243\n",
      "Trainable params: 234,243\n",
      "Non-trainable params: 0\n",
      "_________________________________________________________________\n"
     ]
    }
   ],
   "source": [
    "model_base.summary()"
   ]
  },
  {
   "cell_type": "code",
   "execution_count": 12,
   "id": "7bc1f7d5",
   "metadata": {
    "execution": {
     "iopub.execute_input": "2022-08-25T04:17:47.786490Z",
     "iopub.status.busy": "2022-08-25T04:17:47.785456Z",
     "iopub.status.idle": "2022-08-25T04:18:44.395645Z",
     "shell.execute_reply": "2022-08-25T04:18:44.394416Z"
    },
    "papermill": {
     "duration": 56.619758,
     "end_time": "2022-08-25T04:18:44.398800",
     "exception": false,
     "start_time": "2022-08-25T04:17:47.779042",
     "status": "completed"
    },
    "tags": []
   },
   "outputs": [
    {
     "name": "stderr",
     "output_type": "stream",
     "text": [
      "2022-08-25 04:17:48.119062: I tensorflow/compiler/mlir/mlir_graph_optimization_pass.cc:185] None of the MLIR Optimization Passes are enabled (registered 2)\n"
     ]
    },
    {
     "name": "stdout",
     "output_type": "stream",
     "text": [
      "Epoch 1/20\n",
      "6/6 [==============================] - 6s 819ms/step - loss: 1.3288 - accuracy: 0.3446 - val_loss: 1.0869 - val_accuracy: 0.3810\n",
      "Epoch 2/20\n",
      "6/6 [==============================] - 2s 266ms/step - loss: 1.1264 - accuracy: 0.3376 - val_loss: 1.1302 - val_accuracy: 0.4286\n",
      "Epoch 3/20\n",
      "6/6 [==============================] - 2s 278ms/step - loss: 1.0893 - accuracy: 0.3812 - val_loss: 1.0796 - val_accuracy: 0.3810\n",
      "Epoch 4/20\n",
      "6/6 [==============================] - 2s 290ms/step - loss: 1.0754 - accuracy: 0.3966 - val_loss: 1.0956 - val_accuracy: 0.5238\n",
      "Epoch 5/20\n",
      "6/6 [==============================] - 2s 265ms/step - loss: 1.0853 - accuracy: 0.3840 - val_loss: 1.0726 - val_accuracy: 0.3810\n",
      "Epoch 6/20\n",
      "6/6 [==============================] - 2s 247ms/step - loss: 1.0535 - accuracy: 0.4430 - val_loss: 1.0525 - val_accuracy: 0.4286\n",
      "Epoch 7/20\n",
      "6/6 [==============================] - 2s 253ms/step - loss: 1.0382 - accuracy: 0.4712 - val_loss: 1.0648 - val_accuracy: 0.4286\n",
      "Epoch 8/20\n",
      "6/6 [==============================] - 2s 274ms/step - loss: 1.0376 - accuracy: 0.4627 - val_loss: 1.1278 - val_accuracy: 0.4286\n",
      "Epoch 9/20\n",
      "6/6 [==============================] - 2s 249ms/step - loss: 1.0609 - accuracy: 0.4459 - val_loss: 1.1768 - val_accuracy: 0.3810\n",
      "Epoch 10/20\n",
      "6/6 [==============================] - 2s 257ms/step - loss: 1.0547 - accuracy: 0.4388 - val_loss: 1.0825 - val_accuracy: 0.3810\n",
      "Epoch 11/20\n",
      "6/6 [==============================] - 2s 249ms/step - loss: 1.0029 - accuracy: 0.4923 - val_loss: 1.0631 - val_accuracy: 0.2857\n",
      "Epoch 12/20\n",
      "6/6 [==============================] - 2s 248ms/step - loss: 1.0018 - accuracy: 0.4895 - val_loss: 1.0453 - val_accuracy: 0.4762\n",
      "Epoch 13/20\n",
      "6/6 [==============================] - 2s 255ms/step - loss: 0.9812 - accuracy: 0.5331 - val_loss: 1.0360 - val_accuracy: 0.4286\n",
      "Epoch 14/20\n",
      "6/6 [==============================] - 2s 274ms/step - loss: 0.9697 - accuracy: 0.5513 - val_loss: 1.0430 - val_accuracy: 0.4286\n",
      "Epoch 15/20\n",
      "6/6 [==============================] - 2s 248ms/step - loss: 0.9896 - accuracy: 0.4895 - val_loss: 1.0682 - val_accuracy: 0.4762\n",
      "Epoch 16/20\n",
      "6/6 [==============================] - 2s 251ms/step - loss: 0.9915 - accuracy: 0.4852 - val_loss: 1.1241 - val_accuracy: 0.4286\n",
      "Epoch 17/20\n",
      "6/6 [==============================] - 2s 263ms/step - loss: 1.0004 - accuracy: 0.4740 - val_loss: 1.0949 - val_accuracy: 0.3810\n",
      "Epoch 18/20\n",
      "6/6 [==============================] - 2s 251ms/step - loss: 1.0109 - accuracy: 0.4796 - val_loss: 1.0487 - val_accuracy: 0.3810\n",
      "Epoch 19/20\n",
      "6/6 [==============================] - 2s 251ms/step - loss: 0.9569 - accuracy: 0.5204 - val_loss: 1.0189 - val_accuracy: 0.4286\n",
      "Epoch 20/20\n",
      "6/6 [==============================] - 2s 247ms/step - loss: 0.9425 - accuracy: 0.5429 - val_loss: 1.0601 - val_accuracy: 0.3810\n"
     ]
    }
   ],
   "source": [
    "# Se entrena el modelo:\n",
    "model_base.compile(optimizer = \"adam\", loss = \"categorical_crossentropy\", metrics = [\"accuracy\"])\n",
    "history = model_base.fit(\n",
    "    train_generator,\n",
    "    epochs = 20, \n",
    "    validation_data = validation_generator\n",
    ")"
   ]
  },
  {
   "cell_type": "code",
   "execution_count": 13,
   "id": "6f164bc3",
   "metadata": {
    "execution": {
     "iopub.execute_input": "2022-08-25T04:18:44.431742Z",
     "iopub.status.busy": "2022-08-25T04:18:44.430841Z",
     "iopub.status.idle": "2022-08-25T04:18:45.602220Z",
     "shell.execute_reply": "2022-08-25T04:18:45.600724Z"
    },
    "papermill": {
     "duration": 1.189235,
     "end_time": "2022-08-25T04:18:45.604458",
     "exception": false,
     "start_time": "2022-08-25T04:18:44.415223",
     "status": "completed"
    },
    "tags": []
   },
   "outputs": [
    {
     "name": "stdout",
     "output_type": "stream",
     "text": [
      "1/1 [==============================] - 0s 279ms/step - loss: 1.0544 - accuracy: 0.4035\n"
     ]
    }
   ],
   "source": [
    "# Se valida el modelo para ver los resultados:\n",
    "results = model_base.evaluate(test_generator)"
   ]
  },
  {
   "cell_type": "code",
   "execution_count": 14,
   "id": "d00fe333",
   "metadata": {
    "execution": {
     "iopub.execute_input": "2022-08-25T04:18:45.635906Z",
     "iopub.status.busy": "2022-08-25T04:18:45.635507Z",
     "iopub.status.idle": "2022-08-25T04:18:45.645312Z",
     "shell.execute_reply": "2022-08-25T04:18:45.644241Z"
    },
    "papermill": {
     "duration": 0.028292,
     "end_time": "2022-08-25T04:18:45.647732",
     "exception": false,
     "start_time": "2022-08-25T04:18:45.619440",
     "status": "completed"
    },
    "tags": []
   },
   "outputs": [],
   "source": [
    "# Crear una funcion de visualización de resultados \n",
    "def visualizacion_resultados(history):\n",
    "  epochs = [i for i in range(20)]\n",
    "  fig, ax = plt.subplots(1,2)\n",
    "  train_acc = history.history[\"accuracy\"]\n",
    "  train_loss = history.history[\"loss\"]\n",
    "  val_acc = history.history[\"val_accuracy\"]\n",
    "  val_loss = history.history[\"val_loss\"]\n",
    "  fig.set_size_inches(19,9)\n",
    "\n",
    "  ax[0].plot(epochs, train_acc, \"go-\", label = \"Entrenamiento accuracy\")\n",
    "  ax[0].plot(epochs, val_acc, \"ro-\", label = \"Validacion accuracy\")\n",
    "  ax[0].set_title(\"Entrenamiento & Validación accuracy\")\n",
    "  ax[0].legend()\n",
    "  ax[0].set_xlabel(\"epoch\")\n",
    "  ax[0].set_ylabel(\"Accuracy\")\n",
    "\n",
    "  ax[1].plot(epochs, train_loss, \"go-\", label = \"Entrenamiento loss\")\n",
    "  ax[1].plot(epochs, val_loss, \"ro-\", label = \"Validacion loss\")\n",
    "  ax[1].set_title(\"Entrenamiento & Validación loss\")\n",
    "  ax[1].legend()\n",
    "  ax[1].set_xlabel(\"epoch\")\n",
    "  ax[1].set_ylabel(\"Loss\")\n",
    "\n",
    "  plt.show()"
   ]
  },
  {
   "cell_type": "code",
   "execution_count": 15,
   "id": "278b556c",
   "metadata": {
    "execution": {
     "iopub.execute_input": "2022-08-25T04:18:45.679716Z",
     "iopub.status.busy": "2022-08-25T04:18:45.678776Z",
     "iopub.status.idle": "2022-08-25T04:18:46.125513Z",
     "shell.execute_reply": "2022-08-25T04:18:46.124200Z"
    },
    "papermill": {
     "duration": 0.465662,
     "end_time": "2022-08-25T04:18:46.128654",
     "exception": false,
     "start_time": "2022-08-25T04:18:45.662992",
     "status": "completed"
    },
    "tags": []
   },
   "outputs": [
    {
     "data": {
      "image/png": "[encoded data removed]",
      "text/plain": [
       "<Figure size 1368x648 with 2 Axes>"
      ]
     },
     "metadata": {
      "needs_background": "light"
     },
     "output_type": "display_data"
    }
   ],
   "source": [
    "visualizacion_resultados(history)"
   ]
  },
  {
   "cell_type": "markdown",
   "id": "9e5e7e59",
   "metadata": {
    "papermill": {
     "duration": 0.016139,
     "end_time": "2022-08-25T04:18:46.161086",
     "exception": false,
     "start_time": "2022-08-25T04:18:46.144947",
     "status": "completed"
    },
    "tags": []
   },
   "source": []
  }
 ],
 "metadata": {
  "kernelspec": {
   "display_name": "Python 3",
   "language": "python",
   "name": "python3"
  },
  "language_info": {
   "codemirror_mode": {
    "name": "ipython",
    "version": 3
   },
   "file_extension": ".py",
   "mimetype": "text/x-python",
   "name": "python",
   "nbconvert_exporter": "python",
   "pygments_lexer": "ipython3",
   "version": "3.7.12"
  },
  "papermill": {
   "default_parameters": {},
   "duration": 79.187013,
   "end_time": "2022-08-25T04:18:49.409990",
   "environment_variables": {},
   "exception": null,
   "input_path": "__notebook__.ipynb",
   "output_path": "__notebook__.ipynb",
   "parameters": {},
   "start_time": "2022-08-25T04:17:30.222977",
   "version": "2.3.4"
  }
 },
 "nbformat": 4,
 "nbformat_minor": 5
}
